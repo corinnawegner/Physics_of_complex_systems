{
 "cells": [
  {
   "cell_type": "markdown",
   "source": [
    "# Introduction to physics of complex systems\n",
    "\n",
    "## Problem Sheet 01\n",
    "\n",
    "Name: Corinna Elena Wegner"
   ],
   "metadata": {
    "collapsed": false
   },
   "id": "c73eee722c6c35af"
  },
  {
   "cell_type": "markdown",
   "source": [
    "##  Problem 1: Fixed points and stability \n",
    "Analyze the following systems graphically. In each case, draw the graphs and indicate the direction of the flow on the real line. Use this to find all the fixed points and classify their stability. (Hint: When $\\frac{dx}{dt}=f(x)-g(x)$, sketch the graphs of $f(x)$ and $g(x)$ on the same axes, and look for intersections. You can also use this to decide when the right-hand side is positive or negative and consequently determine the stability properties of the fixed points.)"
   ],
   "metadata": {
    "collapsed": false
   },
   "id": "6a58348681b3bc6"
  },
  {
   "cell_type": "code",
   "execution_count": null,
   "outputs": [],
   "source": [
    "import matplotlib.pyplot as plt\n",
    "import numpy as np\n",
    "\n",
    "def f_1(x):\n",
    "    return x - x**2\n",
    "\n",
    "def f_2(x):\n",
    "    return x-np.cos(x)\n",
    "\n",
    "def f_3(x):\n",
    "    return 1-2*np.cos(x)\n",
    "\n",
    "def plot_function(f, xmin, xmax, rate_arrows):\n",
    "    x = np.linspace(xmin,xmax,(xmax-xmin)*100)\n",
    "    list_f = [f(i) for i in x]\n",
    "    plt.plot(x, list_f)\n",
    "    intersections = [xmin] + x[x==0] + [xmax]\n",
    "    intersections = list(set(intersections))\n",
    "    for i in range(len(intersections)-1):\n",
    "        x_in = [x[i] for i in range(len(x)) if intersections[i]<x[i]<intersections[i+1]]\n",
    "        if (intersections[i+1]+intersections[i])/2 > 0: \n",
    "            plt.plot(x_in,np.zeros(len(x_in)), marker = \">\")\n",
    "        else:\n",
    "            plt.plot(x_in, np.zeros(len(x_in)), marker = \"<\")\n",
    "    plt.xlabel(\"x\")\n",
    "    plt.ylabel(\"dx/dt\")\n",
    "    plt.title(f\"{intersections}\")\n",
    "    plt.grid()"
   ],
   "metadata": {
    "collapsed": false,
    "is_executing": true
   },
   "id": "51ad20f17f3c6dec"
  },
  {
   "cell_type": "code",
   "execution_count": null,
   "outputs": [],
   "source": [
    "plot_function(f_1, 0, 2, 10)"
   ],
   "metadata": {
    "collapsed": false,
    "is_executing": true
   },
   "id": "beb57c612e684a45"
  },
  {
   "cell_type": "code",
   "execution_count": null,
   "outputs": [],
   "source": [
    "plot_function(f_2, 0, 10, 100)"
   ],
   "metadata": {
    "collapsed": false,
    "is_executing": true
   },
   "id": "3590b77ca8eb7b6c"
  },
  {
   "cell_type": "code",
   "execution_count": null,
   "outputs": [],
   "source": [
    "plot_function(f_3, -10,10,100)"
   ],
   "metadata": {
    "collapsed": false,
    "is_executing": true
   },
   "id": "f56f1ea34a1851c3"
  },
  {
   "cell_type": "code",
   "execution_count": null,
   "outputs": [],
   "source": [],
   "metadata": {
    "collapsed": false,
    "is_executing": true
   },
   "id": "85fb0173df86e348"
  }
 ],
 "metadata": {
  "kernelspec": {
   "display_name": "Python 3",
   "language": "python",
   "name": "python3"
  },
  "language_info": {
   "codemirror_mode": {
    "name": "ipython",
    "version": 2
   },
   "file_extension": ".py",
   "mimetype": "text/x-python",
   "name": "python",
   "nbconvert_exporter": "python",
   "pygments_lexer": "ipython2",
   "version": "2.7.6"
  }
 },
 "nbformat": 4,
 "nbformat_minor": 5
}
