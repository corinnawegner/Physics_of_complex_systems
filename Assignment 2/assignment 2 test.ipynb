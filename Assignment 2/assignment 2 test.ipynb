{
 "cells": [
  {
   "cell_type": "code",
   "execution_count": null,
   "id": "initial_id",
   "metadata": {
    "collapsed": true,
    "is_executing": true
   },
   "outputs": [],
   "source": [
    "import matplotlib.pyplot as plt\n",
    "import numpy as np\n",
    "\n",
    "def f_1(x):\n",
    "    return x - x**2\n",
    "\n",
    "def f_2(x):\n",
    "    return x-np.cos(x)\n",
    "\n",
    "def f_3(x):\n",
    "    return 1-2*np.cos(x)\n",
    "\n",
    "def plot_function(f, xmin, xmax, rate_arrows):\n",
    "    x = np.linspace(xmin,xmax,(xmax-xmin)*100)\n",
    "    list_f = [f(i) for i in x]\n",
    "    plt.plot(x, list_f)\n",
    "    intersections = [xmin] + x[x==0] + [xmax]\n",
    "    intersections = list(set(intersections))\n",
    "    for i in range(len(intersections)-1):\n",
    "        x_in = [x[i] for i in range(len(x)) if intersections[i]<x[i]<intersections[i+1]]\n",
    "        if (intersections[i+1]+intersections[i])/2 > 0: \n",
    "            plt.plot(x_in,np.zeros(len(x_in)), marker = \">\")\n",
    "        else:\n",
    "            plt.plot(x_in, np.zeros(len(x_in)), marker = \"<\")\n",
    "    plt.xlabel(\"x\")\n",
    "    plt.ylabel(\"dx/dt\")\n",
    "    plt.title(f\"{intersections}\")\n",
    "    plt.grid()"
   ]
  },
  {
   "cell_type": "code",
   "execution_count": null,
   "outputs": [],
   "source": [],
   "metadata": {
    "collapsed": false
   },
   "id": "c388a67774419bbf"
  }
 ],
 "metadata": {
  "kernelspec": {
   "display_name": "Python 3",
   "language": "python",
   "name": "python3"
  },
  "language_info": {
   "codemirror_mode": {
    "name": "ipython",
    "version": 2
   },
   "file_extension": ".py",
   "mimetype": "text/x-python",
   "name": "python",
   "nbconvert_exporter": "python",
   "pygments_lexer": "ipython2",
   "version": "2.7.6"
  }
 },
 "nbformat": 4,
 "nbformat_minor": 5
}
