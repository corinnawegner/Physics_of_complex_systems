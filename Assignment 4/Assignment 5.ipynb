{
 "cells": [
  {
   "cell_type": "markdown",
   "source": [
    "Problem 2: Hopf bifurcation\n",
    "\n",
    "By plotting phase portraits and trajectories on the computer for different values of $\\mu$, show that the system\n",
    "undergoes a Hopf bifurcation at $\\mu =0$. Is it subcritical or supercritical? (2 points)\n",
    "Hint: You may need to look at $\\mu$ values very close to 0 to see the characteristics of the Hopf bifurcation\n",
    "locally at the origin, because more complicated (global) changes are happening further away from 0"
   ],
   "metadata": {
    "collapsed": false
   }
  },
  {
   "cell_type": "code",
   "execution_count": 1,
   "outputs": [],
   "source": [
    "import numpy as np\n",
    "import matplotlib.pyplot as plt\n",
    "\n",
    "def hopf_system(x,y, mu):\n",
    "    dx = -y+mu*x+x*y**2\n",
    "    dy = x+mu*y-x**2\n",
    "    return dx,dy\n",
    "\n"
   ],
   "metadata": {
    "collapsed": false,
    "ExecuteTime": {
     "end_time": "2023-11-23T17:37:25.547415800Z",
     "start_time": "2023-11-23T17:37:24.515176900Z"
    }
   }
  },
  {
   "cell_type": "code",
   "execution_count": null,
   "outputs": [],
   "source": [],
   "metadata": {
    "collapsed": false
   }
  }
 ],
 "metadata": {
  "kernelspec": {
   "display_name": "Python 3",
   "language": "python",
   "name": "python3"
  },
  "language_info": {
   "codemirror_mode": {
    "name": "ipython",
    "version": 2
   },
   "file_extension": ".py",
   "mimetype": "text/x-python",
   "name": "python",
   "nbconvert_exporter": "python",
   "pygments_lexer": "ipython2",
   "version": "2.7.6"
  }
 },
 "nbformat": 4,
 "nbformat_minor": 0
}
