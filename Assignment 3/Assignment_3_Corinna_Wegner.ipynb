{
 "cells": [
  {
   "cell_type": "code",
   "execution_count": null,
   "id": "initial_id",
   "metadata": {
    "collapsed": true,
    "is_executing": true
   },
   "outputs": [],
   "source": [
    "import numpy as np"
   ]
  },
  {
   "cell_type": "code",
   "execution_count": null,
   "outputs": [],
   "source": [
    "def f_x(x, r):\n",
    "    return x*(r-np.exp(x))\n",
    "\n",
    "def f_y(y, zeta):\n",
    "    return y**4 -4*y + zeta"
   ],
   "metadata": {
    "collapsed": false,
    "is_executing": true
   },
   "id": "c3afe6d2c3874140"
  },
  {
   "cell_type": "code",
   "execution_count": null,
   "outputs": [],
   "source": [
    "x4 = np.linspace(-4,4,1000)\n",
    "list_r = [3,2,1,0,-1,-2]\n",
    "for r in list_r:\n",
    "    list_f4 = [f_4(i, r) for i in x4]\n",
    "    plt.plot(x4, list_f4, label = f\"r={r}\")\n",
    "plt.grid()\n",
    "plt.legend()\n"
   ],
   "metadata": {
    "collapsed": false
   },
   "id": "bfa7137d8d9be28a"
  }
 ],
 "metadata": {
  "kernelspec": {
   "display_name": "Python 3",
   "language": "python",
   "name": "python3"
  },
  "language_info": {
   "codemirror_mode": {
    "name": "ipython",
    "version": 2
   },
   "file_extension": ".py",
   "mimetype": "text/x-python",
   "name": "python",
   "nbconvert_exporter": "python",
   "pygments_lexer": "ipython2",
   "version": "2.7.6"
  }
 },
 "nbformat": 4,
 "nbformat_minor": 5
}
