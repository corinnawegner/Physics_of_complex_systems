{
 "cells": [
  {
   "cell_type": "code",
   "execution_count": 81,
   "id": "initial_id",
   "metadata": {
    "collapsed": true,
    "ExecuteTime": {
     "end_time": "2024-01-11T19:13:37.050537600Z",
     "start_time": "2024-01-11T19:13:32.356935800Z"
    }
   },
   "outputs": [],
   "source": [
    "import numpy as np\n",
    "import pandas as pd\n",
    "import matplotlib.pyplot as plt\n",
    "\n",
    "from scipy.optimize import curve_fit"
   ]
  },
  {
   "cell_type": "code",
   "execution_count": 22,
   "outputs": [],
   "source": [
    "path = r\"C:\\Users\\corin\\OneDrive\\Physik Master\\WiSe 23\\Physics of complex systems\\Homework\\Assignment 10\\OClinks_w_chars.txt\"\n",
    "\n",
    "df = pd.read_csv(path, sep=\" \")\n",
    "df.columns = [\"number of user 1\", \"number of user 2\", \"number of characters in message\"]"
   ],
   "metadata": {
    "collapsed": false,
    "ExecuteTime": {
     "end_time": "2024-01-11T16:41:04.246095300Z",
     "start_time": "2024-01-11T16:41:04.172641900Z"
    }
   },
   "id": "82d7f1ec7b0fc35d"
  },
  {
   "cell_type": "code",
   "execution_count": 23,
   "outputs": [
    {
     "data": {
      "text/plain": "   number of user 1  number of user 2  number of characters in message\n0                 1                 3                             1058\n1                 1                30                              341\n2                 1                32                              132\n3                 1                36                             1074\n4                 1                42                              193",
      "text/html": "<div>\n<style scoped>\n    .dataframe tbody tr th:only-of-type {\n        vertical-align: middle;\n    }\n\n    .dataframe tbody tr th {\n        vertical-align: top;\n    }\n\n    .dataframe thead th {\n        text-align: right;\n    }\n</style>\n<table border=\"1\" class=\"dataframe\">\n  <thead>\n    <tr style=\"text-align: right;\">\n      <th></th>\n      <th>number of user 1</th>\n      <th>number of user 2</th>\n      <th>number of characters in message</th>\n    </tr>\n  </thead>\n  <tbody>\n    <tr>\n      <th>0</th>\n      <td>1</td>\n      <td>3</td>\n      <td>1058</td>\n    </tr>\n    <tr>\n      <th>1</th>\n      <td>1</td>\n      <td>30</td>\n      <td>341</td>\n    </tr>\n    <tr>\n      <th>2</th>\n      <td>1</td>\n      <td>32</td>\n      <td>132</td>\n    </tr>\n    <tr>\n      <th>3</th>\n      <td>1</td>\n      <td>36</td>\n      <td>1074</td>\n    </tr>\n    <tr>\n      <th>4</th>\n      <td>1</td>\n      <td>42</td>\n      <td>193</td>\n    </tr>\n  </tbody>\n</table>\n</div>"
     },
     "execution_count": 23,
     "metadata": {},
     "output_type": "execute_result"
    }
   ],
   "source": [
    "df.head()"
   ],
   "metadata": {
    "collapsed": false,
    "ExecuteTime": {
     "end_time": "2024-01-11T16:41:04.558910600Z",
     "start_time": "2024-01-11T16:41:04.516979800Z"
    }
   },
   "id": "689c097d44d5a7a1"
  },
  {
   "cell_type": "code",
   "execution_count": 17,
   "outputs": [
    {
     "data": {
      "text/plain": "(20295, 3)"
     },
     "execution_count": 17,
     "metadata": {},
     "output_type": "execute_result"
    }
   ],
   "source": [
    "df.shape"
   ],
   "metadata": {
    "collapsed": false,
    "ExecuteTime": {
     "end_time": "2024-01-11T16:38:56.817409900Z",
     "start_time": "2024-01-11T16:38:56.763413200Z"
    }
   },
   "id": "7a0094874b873949"
  },
  {
   "cell_type": "code",
   "execution_count": 77,
   "outputs": [],
   "source": [
    "#degree of user 1\n",
    "num_users = df['number of user 1'].max()\n",
    "\n",
    "list_degrees = []\n",
    "list_nodes = []\n",
    "\n",
    "for n in range(1, num_users+1):\n",
    "    user_subtable = df[df['number of user 1'] == n]\n",
    "    user_degree = user_subtable.shape[0]\n",
    "    if user_degree > 0:\n",
    "        list_nodes.append(n)\n",
    "        list_degrees.append(user_degree)\n",
    "    \n",
    "degrees = {\"node\": list_nodes, \"degree\": list_degrees}\n",
    "degrees_df = pd.DataFrame(degrees)"
   ],
   "metadata": {
    "collapsed": false,
    "ExecuteTime": {
     "end_time": "2024-01-11T18:59:09.189111200Z",
     "start_time": "2024-01-11T18:59:07.359500600Z"
    }
   },
   "id": "eacc4cf220d55b51"
  },
  {
   "cell_type": "code",
   "execution_count": 78,
   "outputs": [
    {
     "data": {
      "text/plain": "   node  degree\n0     1      32\n1     3     175\n2     5       1\n3     6      45\n4     8      28",
      "text/html": "<div>\n<style scoped>\n    .dataframe tbody tr th:only-of-type {\n        vertical-align: middle;\n    }\n\n    .dataframe tbody tr th {\n        vertical-align: top;\n    }\n\n    .dataframe thead th {\n        text-align: right;\n    }\n</style>\n<table border=\"1\" class=\"dataframe\">\n  <thead>\n    <tr style=\"text-align: right;\">\n      <th></th>\n      <th>node</th>\n      <th>degree</th>\n    </tr>\n  </thead>\n  <tbody>\n    <tr>\n      <th>0</th>\n      <td>1</td>\n      <td>32</td>\n    </tr>\n    <tr>\n      <th>1</th>\n      <td>3</td>\n      <td>175</td>\n    </tr>\n    <tr>\n      <th>2</th>\n      <td>5</td>\n      <td>1</td>\n    </tr>\n    <tr>\n      <th>3</th>\n      <td>6</td>\n      <td>45</td>\n    </tr>\n    <tr>\n      <th>4</th>\n      <td>8</td>\n      <td>28</td>\n    </tr>\n  </tbody>\n</table>\n</div>"
     },
     "execution_count": 78,
     "metadata": {},
     "output_type": "execute_result"
    }
   ],
   "source": [
    "degrees_df.head()"
   ],
   "metadata": {
    "collapsed": false,
    "ExecuteTime": {
     "end_time": "2024-01-11T18:59:09.272187100Z",
     "start_time": "2024-01-11T18:59:09.137101700Z"
    }
   },
   "id": "33f4732c8b3e4c27"
  },
  {
   "cell_type": "code",
   "execution_count": 79,
   "outputs": [
    {
     "data": {
      "text/plain": "Text(0.5, 1.0, 'Histogram of the degrees')"
     },
     "execution_count": 79,
     "metadata": {},
     "output_type": "execute_result"
    },
    {
     "data": {
      "text/plain": "<Figure size 640x480 with 1 Axes>",
      "image/png": "[encoded data removed]"
     },
     "metadata": {},
     "output_type": "display_data"
    }
   ],
   "source": [
    "bins = range(np.max(degrees_df[\"degree\"])+1)\n",
    "plt.hist(degrees_df[\"degree\"],bins=bins, density=True)\n",
    "plt.xlabel(\"k\")\n",
    "plt.title(\"Histogram of the degrees\")"
   ],
   "metadata": {
    "collapsed": false,
    "ExecuteTime": {
     "end_time": "2024-01-11T18:59:11.076746500Z",
     "start_time": "2024-01-11T18:59:09.169103700Z"
    }
   },
   "id": "e26538cd7963b899"
  },
  {
   "cell_type": "code",
   "execution_count": 80,
   "outputs": [
    {
     "data": {
      "text/plain": "Text(0.5, 1.0, 'Histogram of the degrees')"
     },
     "execution_count": 80,
     "metadata": {},
     "output_type": "execute_result"
    },
    {
     "data": {
      "text/plain": "<Figure size 640x480 with 1 Axes>",
      "image/png": "[encoded data removed]"
     },
     "metadata": {},
     "output_type": "display_data"
    }
   ],
   "source": [
    "x_log = np.log(np.arange(1,1+num_users))\n",
    "plt.hist(degrees_df[\"degree\"], bins=np.logspace(start=0, stop=np.log10(1000), num=15), density=True,log= True)\n",
    "plt.gca().set_xscale(\"log\")\n",
    "plt.xlabel(\"log(k)\")\n",
    "plt.title(\"Histogram of the degrees\")"
   ],
   "metadata": {
    "collapsed": false,
    "ExecuteTime": {
     "end_time": "2024-01-11T18:59:13.180390300Z",
     "start_time": "2024-01-11T18:59:11.161705500Z"
    }
   },
   "id": "931822aa0126af88"
  },
  {
   "cell_type": "code",
   "execution_count": null,
   "outputs": [],
   "source": [
    "def degree_distribution(k, alpha, pref):\n",
    "    return pref*k**(-alpha)\n",
    "\n",
    "curve_fit(degree_distribution, )"
   ],
   "metadata": {
    "collapsed": false
   },
   "id": "f19fa2cdbcd5b0ff"
  }
 ],
 "metadata": {
  "kernelspec": {
   "display_name": "Python 3",
   "language": "python",
   "name": "python3"
  },
  "language_info": {
   "codemirror_mode": {
    "name": "ipython",
    "version": 2
   },
   "file_extension": ".py",
   "mimetype": "text/x-python",
   "name": "python",
   "nbconvert_exporter": "python",
   "pygments_lexer": "ipython2",
   "version": "2.7.6"
  }
 },
 "nbformat": 4,
 "nbformat_minor": 5
}
